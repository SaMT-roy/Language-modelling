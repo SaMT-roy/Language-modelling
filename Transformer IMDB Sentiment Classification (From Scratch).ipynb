{
 "cells": [
  {
   "cell_type": "code",
   "execution_count": 1,
   "id": "8786c13a",
   "metadata": {},
   "outputs": [],
   "source": [
    "import tensorflow as tf\n",
    "from tensorflow.keras.layers import Dense, Embedding, GlobalAveragePooling1D, Dropout\n",
    "from tensorflow.keras.models import Model\n",
    "import numpy as np\n",
    "import matplotlib.pyplot as plt\n",
    "import numpy as np\n",
    "import pandas as pd\n",
    "import seaborn as sns\n",
    "from sklearn.preprocessing import LabelEncoder"
   ]
  },
  {
   "cell_type": "code",
   "execution_count": 2,
   "id": "477635fe",
   "metadata": {},
   "outputs": [],
   "source": [
    "devices = tf.config.experimental.list_physical_devices(\"GPU\")\n",
    "for device in devices:\n",
    "    tf.config.experimental.set_memory_growth(device=device, enable=True)"
   ]
  },
  {
   "cell_type": "code",
   "execution_count": 3,
   "id": "f676f8e8",
   "metadata": {},
   "outputs": [],
   "source": [
    "dataset = pd.read_csv(\"IMDB Dataset.csv\")\n",
    "train_dataset, test_dataset = dataset[:40000], dataset[40000:]\n",
    "\n",
    "\n",
    "X_train, y_train = train_dataset[\"review\"].to_numpy(), train_dataset[\"sentiment\"].to_numpy()\n",
    "X_test, y_test = test_dataset[\"review\"].to_numpy(), test_dataset[\"sentiment\"].to_numpy()"
   ]
  },
  {
   "cell_type": "code",
   "execution_count": 4,
   "id": "70732916",
   "metadata": {},
   "outputs": [],
   "source": [
    "max_len = 256  # Maximum sequence length\n",
    "embedding_dim = 64  # Dimension of word embeddings\n",
    "attention_units = 16  # Attention units for self-attention mechanism\n",
    "num_classes = 2  # Number of output classes (e.g., positive and negative)"
   ]
  },
  {
   "cell_type": "code",
   "execution_count": 5,
   "id": "271a1307",
   "metadata": {},
   "outputs": [],
   "source": [
    "tokenizer = tf.keras.preprocessing.text.Tokenizer()\n",
    "tokenizer.fit_on_texts(train_dataset[\"review\"])\n",
    "vocab_size = len(tokenizer.word_index) + 1"
   ]
  },
  {
   "cell_type": "code",
   "execution_count": 6,
   "id": "ee9b4202",
   "metadata": {},
   "outputs": [],
   "source": [
    "X_train_tokenized = tokenizer.texts_to_sequences(X_train)\n",
    "X_train_tokenized = tf.keras.preprocessing.sequence.pad_sequences(X_train_tokenized, padding='post', maxlen=max_len)\n",
    "\n",
    "\n",
    "X_test_tokenized = tokenizer.texts_to_sequences(X_test)\n",
    "X_test_tokenized = tf.keras.preprocessing.sequence.pad_sequences(X_test_tokenized, padding='post', maxlen=max_len)\n",
    "\n",
    "\n",
    "encoder = LabelEncoder()\n",
    "\n",
    "y_train_encoded = encoder.fit_transform(y_train)\n",
    "y_test_encoded = encoder.transform(y_test)\n",
    "\n",
    "y_train_encoded = y_train_encoded.astype(np.int64)\n",
    "y_test_encoded = y_test_encoded.astype(np.int64)"
   ]
  },
  {
   "cell_type": "code",
   "execution_count": 7,
   "id": "1e1e17c2",
   "metadata": {},
   "outputs": [],
   "source": [
    "def initialize_weights(input_shape, attention_units):\n",
    "    \n",
    "    WQ = tf.Variable(initial_value=tf.initializers.glorot_uniform()(shape=(input_shape[-1], attention_units)))\n",
    "    WK = tf.Variable(initial_value=tf.initializers.glorot_uniform()(shape=(input_shape[-1], attention_units)))\n",
    "    WV = tf.Variable(initial_value=tf.initializers.glorot_uniform()(shape=(input_shape[-1], attention_units)))\n",
    "    return WQ, WK, WV\n",
    "\n",
    "def self_attention(inputs, WQ, WK, WV):\n",
    "    \n",
    "    Q = tf.matmul(inputs, WQ)\n",
    "    K = tf.matmul(inputs, WK)\n",
    "    V = tf.matmul(inputs, WV)\n",
    "\n",
    "    d_k = tf.cast(tf.shape(K)[-1], tf.float32)\n",
    "    attention_weights = tf.nn.softmax(tf.matmul(Q, K, transpose_b=True)/tf.math.sqrt(d_k), axis=-1)\n",
    "    output = tf.matmul(attention_weights, V)\n",
    "\n",
    "    return output, attention_weights\n",
    "\n",
    "def positional_encoding(position, d_model):\n",
    "    \n",
    "    angle_rates = 1 / np.power(10000, (2 * (np.arange(d_model)[np.newaxis, :] // 2)) / np.float32(d_model))\n",
    "    angle_rads = np.arange(position)[:, np.newaxis] * angle_rates\n",
    "\n",
    "    # Apply sin to even indices in the array; 2i\n",
    "    angle_rads[:, 0::2] = np.sin(angle_rads[:, 0::2])\n",
    "\n",
    "    # Apply cos to odd indices in the array; 2i+1\n",
    "    angle_rads[:, 1::2] = np.cos(angle_rads[:, 1::2])\n",
    "\n",
    "    pos_encoding = angle_rads[np.newaxis, ...]\n",
    "    \n",
    "    return tf.cast(pos_encoding, dtype=tf.float32)\n",
    "\n",
    "\n",
    "def sentiment_classifier(inputs, vocab_size, max_len, embedding_dim, attention_units, num_classes):\n",
    "    \n",
    "    embedding = Embedding(vocab_size, embedding_dim, input_length=max_len)\n",
    "    positional_encodings = positional_encoding(max_len, embedding_dim)\n",
    "    WQ, WK, WV = initialize_weights((max_len, embedding_dim), attention_units)\n",
    "    global_avg_pool = GlobalAveragePooling1D()\n",
    "    dense1 = Dense(256, activation=\"relu\")\n",
    "    dropout = Dropout(0.25)\n",
    "    dense2 = Dense(num_classes, activation='softmax')\n",
    "    \n",
    "    \n",
    "    x = embedding(inputs)\n",
    "    x *= tf.math.sqrt(tf.cast(tf.shape(x)[-1], tf.float32))\n",
    "    x += positional_encodings[:, :tf.shape(x)[1], :]\n",
    "    output, attention_weights = self_attention(x, WQ, WK, WV)\n",
    "    output = global_avg_pool(output)\n",
    "    output = dense1(output)\n",
    "    output = dropout(output)\n",
    "    output = dense2(output)\n",
    "    \n",
    "    return output, attention_weights"
   ]
  },
  {
   "cell_type": "code",
   "execution_count": 8,
   "id": "d9eb9def",
   "metadata": {},
   "outputs": [
    {
     "name": "stderr",
     "output_type": "stream",
     "text": [
      "2024-03-31 11:06:05.477776: I metal_plugin/src/device/metal_device.cc:1154] Metal device set to: Apple M2\n",
      "2024-03-31 11:06:05.477795: I metal_plugin/src/device/metal_device.cc:296] systemMemory: 24.00 GB\n",
      "2024-03-31 11:06:05.477799: I metal_plugin/src/device/metal_device.cc:313] maxCacheSize: 8.00 GB\n",
      "2024-03-31 11:06:05.477860: I tensorflow/core/common_runtime/pluggable_device/pluggable_device_factory.cc:303] Could not identify NUMA node of platform GPU ID 0, defaulting to 0. Your kernel may not have been built with NUMA support.\n",
      "2024-03-31 11:06:05.478085: I tensorflow/core/common_runtime/pluggable_device/pluggable_device_factory.cc:269] Created TensorFlow device (/job:localhost/replica:0/task:0/device:GPU:0 with 0 MB memory) -> physical PluggableDevice (device: 0, name: METAL, pci bus id: <undefined>)\n"
     ]
    }
   ],
   "source": [
    "train_dataset = tf.data.Dataset.from_tensor_slices((X_train_tokenized, y_train_encoded)).batch(64)\n",
    "test_dataset = tf.data.Dataset.from_tensor_slices((X_test_tokenized, y_test_encoded)).batch(32)"
   ]
  },
  {
   "cell_type": "code",
   "execution_count": 15,
   "id": "64922eb9",
   "metadata": {
    "scrolled": true
   },
   "outputs": [
    {
     "name": "stdout",
     "output_type": "stream",
     "text": [
      "WARNING:tensorflow:The following Variables were used in a Lambda layer's call (tf.linalg.matmul), but are not present in its tracked objects:   <tf.Variable 'Variable:0' shape=(64, 16) dtype=float32>. This is a strong indication that the Lambda layer should be rewritten as a subclassed Layer.\n",
      "WARNING:tensorflow:The following Variables were used in a Lambda layer's call (tf.linalg.matmul_1), but are not present in its tracked objects:   <tf.Variable 'Variable:0' shape=(64, 16) dtype=float32>. This is a strong indication that the Lambda layer should be rewritten as a subclassed Layer.\n",
      "WARNING:tensorflow:The following Variables were used in a Lambda layer's call (tf.linalg.matmul_2), but are not present in its tracked objects:   <tf.Variable 'Variable:0' shape=(64, 16) dtype=float32>. This is a strong indication that the Lambda layer should be rewritten as a subclassed Layer.\n",
      "Epoch 1/10\n"
     ]
    },
    {
     "name": "stderr",
     "output_type": "stream",
     "text": [
      "2024-03-31 11:06:48.984558: I tensorflow/core/grappler/optimizers/custom_graph_optimizer_registry.cc:114] Plugin optimizer for device_type GPU is enabled.\n",
      "2024-03-31 11:06:49.004085: W tensorflow/core/grappler/costs/op_level_cost_estimator.cc:693] Error in PredictCost() for the op: op: \"Softmax\" attr { key: \"T\" value { type: DT_FLOAT } } inputs { dtype: DT_FLOAT shape { unknown_rank: true } } device { type: \"GPU\" } outputs { dtype: DT_FLOAT shape { unknown_rank: true } }\n"
     ]
    },
    {
     "name": "stdout",
     "output_type": "stream",
     "text": [
      "624/625 [============================>.] - ETA: 0s - loss: 0.3316 - accuracy: 0.8486"
     ]
    },
    {
     "name": "stderr",
     "output_type": "stream",
     "text": [
      "2024-03-31 11:07:16.616370: I tensorflow/core/grappler/optimizers/custom_graph_optimizer_registry.cc:114] Plugin optimizer for device_type GPU is enabled.\n",
      "2024-03-31 11:07:16.622001: W tensorflow/core/grappler/costs/op_level_cost_estimator.cc:693] Error in PredictCost() for the op: op: \"Softmax\" attr { key: \"T\" value { type: DT_FLOAT } } inputs { dtype: DT_FLOAT shape { unknown_rank: true } } device { type: \"GPU\" } outputs { dtype: DT_FLOAT shape { unknown_rank: true } }\n"
     ]
    },
    {
     "name": "stdout",
     "output_type": "stream",
     "text": [
      "625/625 [==============================] - 30s 48ms/step - loss: 0.3313 - accuracy: 0.8487 - val_loss: 0.2527 - val_accuracy: 0.8964\n",
      "Epoch 2/10\n",
      "625/625 [==============================] - 28s 45ms/step - loss: 0.1482 - accuracy: 0.9464 - val_loss: 0.3018 - val_accuracy: 0.8915\n",
      "Epoch 3/10\n",
      "625/625 [==============================] - 27s 44ms/step - loss: 0.0598 - accuracy: 0.9813 - val_loss: 0.4720 - val_accuracy: 0.8802\n",
      "Epoch 4/10\n",
      "625/625 [==============================] - 27s 43ms/step - loss: 0.0199 - accuracy: 0.9948 - val_loss: 0.6509 - val_accuracy: 0.8762\n",
      "Epoch 5/10\n",
      "625/625 [==============================] - 25s 40ms/step - loss: 0.0076 - accuracy: 0.9978 - val_loss: 0.7764 - val_accuracy: 0.8781\n",
      "Epoch 6/10\n",
      "625/625 [==============================] - 24s 39ms/step - loss: 0.0051 - accuracy: 0.9984 - val_loss: 0.9329 - val_accuracy: 0.8746\n",
      "Epoch 7/10\n",
      "625/625 [==============================] - 24s 39ms/step - loss: 0.0065 - accuracy: 0.9976 - val_loss: 0.9438 - val_accuracy: 0.8760\n",
      "Epoch 8/10\n",
      "625/625 [==============================] - 24s 39ms/step - loss: 0.0083 - accuracy: 0.9973 - val_loss: 0.9478 - val_accuracy: 0.8756\n",
      "Epoch 9/10\n",
      "625/625 [==============================] - 25s 40ms/step - loss: 0.0075 - accuracy: 0.9974 - val_loss: 0.9491 - val_accuracy: 0.8726\n",
      "Epoch 10/10\n",
      "625/625 [==============================] - 25s 40ms/step - loss: 0.0074 - accuracy: 0.9975 - val_loss: 0.9259 - val_accuracy: 0.8762\n"
     ]
    }
   ],
   "source": [
    "# Define the model\n",
    "inputs = tf.keras.Input(shape=(max_len,))\n",
    "outputs, _ = sentiment_classifier(inputs, vocab_size, max_len, embedding_dim, attention_units, num_classes)\n",
    "model = tf.keras.Model(inputs=inputs, outputs=outputs)\n",
    "\n",
    "# Compile the model\n",
    "model.compile(loss='sparse_categorical_crossentropy', optimizer='adam', metrics=['accuracy'])\n",
    "\n",
    "# Train the model\n",
    "history = model.fit(train_dataset, epochs=10, validation_data=test_dataset)"
   ]
  },
  {
   "cell_type": "markdown",
   "id": "eac93998",
   "metadata": {},
   "source": [
    "# Predictions"
   ]
  },
  {
   "cell_type": "code",
   "execution_count": 28,
   "id": "c2ee5dd8",
   "metadata": {
    "scrolled": true
   },
   "outputs": [
    {
     "name": "stdout",
     "output_type": "stream",
     "text": [
      "1/1 [==============================] - 0s 20ms/step\n",
      "One of the other reviewers has mentioned that after watching just 1 Oz episode you'll be hooked. They are right, as this is exactly what happened with me.<br /><br />The first thing that struck me about Oz was its brutality and unflinching scenes of violence, which set in right from the word GO. Trust me, this is not a show for the faint hearted or timid. This show pulls no punches with regards to drugs, sex or violence. Its is hardcore, in the classic use of the word.<br /><br />It is called OZ as that is the nickname given to the Oswald Maximum Security State Penitentary. It focuses mainly on Emerald City, an experimental section of the prison where all the cells have glass fronts and face inwards, so privacy is not high on the agenda. Em City is home to many..Aryans, Muslims, gangstas, Latinos, Christians, Italians, Irish and more....so scuffles, death stares, dodgy dealings and shady agreements are never far away.<br /><br />I would say the main appeal of the show is due to the fact that it goes where other shows wouldn't dare. Forget pretty pictures painted for mainstream audiences, forget charm, forget romance...OZ doesn't mess around. The first episode I ever saw struck me as so nasty it was surreal, I couldn't say I was ready for it, but as I watched more, I developed a taste for Oz, and got accustomed to the high levels of graphic violence. Not just violence, but injustice (crooked guards who'll be sold out for a nickel, inmates who'll kill on order and get away with it, well mannered, middle class inmates being turned into prison bitches due to their lack of street skills or prison experience) Watching Oz, you may become comfortable with what is uncomfortable viewing....thats if you can get in touch with your darker side.\n",
      " \n",
      "positive\n",
      "Positive\n",
      " \n",
      " ------------------------------------------------------------------------\n",
      "A wonderful little production. <br /><br />The filming technique is very unassuming- very old-time-BBC fashion and gives a comforting, and sometimes discomforting, sense of realism to the entire piece. <br /><br />The actors are extremely well chosen- Michael Sheen not only \"has got all the polari\" but he has all the voices down pat too! You can truly see the seamless editing guided by the references to Williams' diary entries, not only is it well worth the watching but it is a terrificly written and performed piece. A masterful production about one of the great master's of comedy and his life. <br /><br />The realism really comes home with the little things: the fantasy of the guard which, rather than use the traditional 'dream' techniques remains solid then disappears. It plays on our knowledge and our senses, particularly with the scenes concerning Orton and Halliwell and the sets (particularly of their flat with Halliwell's murals decorating every surface) are terribly well done.\n",
      " \n",
      "positive\n",
      "Positive\n",
      " \n",
      " ------------------------------------------------------------------------\n",
      "I thought this was a wonderful way to spend time on a too hot summer weekend, sitting in the air conditioned theater and watching a light-hearted comedy. The plot is simplistic, but the dialogue is witty and the characters are likable (even the well bread suspected serial killer). While some may be disappointed when they realize this is not Match Point 2: Risk Addiction, I thought it was proof that Woody Allen is still fully in control of the style many of us have grown to love.<br /><br />This was the most I'd laughed at one of Woody's comedies in years (dare I say a decade?). While I've never been impressed with Scarlet Johanson, in this she managed to tone down her \"sexy\" image and jumped right into a average, but spirited young woman.<br /><br />This may not be the crown jewel of his career, but it was wittier than \"Devil Wears Prada\" and more interesting than \"Superman\" a great comedy to go see with friends.\n",
      " \n",
      "positive\n",
      "Negative\n",
      " \n",
      " ------------------------------------------------------------------------\n",
      "Basically there's a family where a little boy (Jake) thinks there's a zombie in his closet & his parents are fighting all the time.<br /><br />This movie is slower than a soap opera... and suddenly, Jake decides to become Rambo and kill the zombie.<br /><br />OK, first of all when you're going to make a film you must Decide if its a thriller or a drama! As a drama the movie is watchable. Parents are divorcing & arguing like in real life. And then we have Jake with his closet which totally ruins all the film! I expected to see a BOOGEYMAN similar movie, and instead i watched a drama with some meaningless thriller spots.<br /><br />3 out of 10 just for the well playing parents & descent dialogs. As for the shots with Jake: just ignore them.\n",
      " \n",
      "negative\n",
      "Negative\n",
      " \n",
      " ------------------------------------------------------------------------\n",
      "Petter Mattei's \"Love in the Time of Money\" is a visually stunning film to watch. Mr. Mattei offers us a vivid portrait about human relations. This is a movie that seems to be telling us what money, power and success do to people in the different situations we encounter. <br /><br />This being a variation on the Arthur Schnitzler's play about the same theme, the director transfers the action to the present time New York where all these different characters meet and connect. Each one is connected in one way, or another to the next person, but no one seems to know the previous point of contact. Stylishly, the film has a sophisticated luxurious look. We are taken to see how these people live and the world they live in their own habitat.<br /><br />The only thing one gets out of all these souls in the picture is the different stages of loneliness each one inhabits. A big city is not exactly the best place in which human relations find sincere fulfillment, as one discerns is the case with most of the people we encounter.<br /><br />The acting is good under Mr. Mattei's direction. Steve Buscemi, Rosario Dawson, Carol Kane, Michael Imperioli, Adrian Grenier, and the rest of the talented cast, make these characters come alive.<br /><br />We wish Mr. Mattei good luck and await anxiously for his next work.\n",
      " \n",
      "positive\n",
      "Negative\n",
      " \n",
      " ------------------------------------------------------------------------\n"
     ]
    }
   ],
   "source": [
    "inputs = X_train_tokenized[:5]\n",
    "text = X_train[:5]\n",
    "true_values = y_train[:5]\n",
    "\n",
    "predicted = model.predict(inputs)[:,-1]\n",
    "\n",
    "labels = ['Positive' if i == 1 else 'Negative' for i in predicted]\n",
    "\n",
    "for i in range(len(labels)):\n",
    "    print(text[i])\n",
    "    print(' ')\n",
    "    print(true_values[i])\n",
    "    print(labels[i])\n",
    "    print(' ')\n",
    "    print(' ------------------------------------------------------------------------')"
   ]
  },
  {
   "cell_type": "code",
   "execution_count": null,
   "id": "4f32fc53",
   "metadata": {},
   "outputs": [],
   "source": []
  }
 ],
 "metadata": {
  "kernelspec": {
   "display_name": "Python 3 (ipykernel)",
   "language": "python",
   "name": "python3"
  },
  "language_info": {
   "codemirror_mode": {
    "name": "ipython",
    "version": 3
   },
   "file_extension": ".py",
   "mimetype": "text/x-python",
   "name": "python",
   "nbconvert_exporter": "python",
   "pygments_lexer": "ipython3",
   "version": "3.10.12"
  }
 },
 "nbformat": 4,
 "nbformat_minor": 5
}
