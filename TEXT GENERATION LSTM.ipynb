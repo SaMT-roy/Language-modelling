{
 "cells": [
  {
   "cell_type": "code",
   "execution_count": 2,
   "id": "db5402e4",
   "metadata": {},
   "outputs": [],
   "source": [
    "from keras.models import Sequential\n",
    "from keras.layers import Dense\n",
    "from keras.layers import Dropout\n",
    "from keras.layers import LSTM\n",
    "from keras.callbacks import ModelCheckpoint\n",
    "from keras.utils import np_utils\n",
    "from nltk.tokenize import sent_tokenize, word_tokenize\n",
    "import scipy\n",
    "from scipy import spatial\n",
    "from nltk.tokenize.toktok import ToktokTokenizer\n",
    "import re\n",
    "import numpy as np\n",
    "\n",
    "from keras.preprocessing.text import Tokenizer\n",
    "from keras.preprocessing.sequence import pad_sequences\n",
    "from tensorflow.keras.utils import to_categorical\n",
    "from keras.layers import Dense, Input, LSTM, Embedding,Dropout, Activation\n",
    "from keras.layers import Bidirectional, GlobalMaxPool1D,Conv1D, SimpleRNN\n",
    "from keras.models import Model\n",
    "from sklearn.preprocessing import LabelEncoder\n",
    "from keras.models import Sequential\n",
    "from keras import initializers, regularizers, constraints,optimizers, layers\n",
    "from keras.layers import Dense, Input, Flatten, Dropout,BatchNormalization\n",
    "from keras.layers import Conv1D, MaxPooling1D, Embedding\n",
    "from keras.models import Sequential\n",
    "from keras.layers.recurrent import SimpleRNN\n",
    "import sklearn\n",
    "from sklearn.metrics import precision_recall_fscore_support as score"
   ]
  },
  {
   "cell_type": "markdown",
   "id": "a051ed22",
   "metadata": {},
   "source": [
    "# get a sample text"
   ]
  },
  {
   "cell_type": "code",
   "execution_count": 3,
   "id": "b54e8907",
   "metadata": {},
   "outputs": [
    {
     "data": {
      "text/plain": [
       "'wood the principal strengthening and nutrient conducting tissue of trees and other plants and one of the most abundant and versatile natural materials produced by many botanical species including both gymnosperms and angiosperms wood is available in various colours and grain patterns it is strong in relation to its weight is insulating to heat and electricity and has desirable acoustic properties furthermore it imparts a feeling of warmth not possessed by competing materials such as metals or stone and it is relatively easily worked as a material wood has been in service since humans appeared on earth today in spite of technological advancement and competition from metals plastics cement and other materials wood maintains a place in most of its traditional roles and its serviceability is expanding through new uses in addition to well known products such as lumber furniture and plywood wood is the raw material for wood based panels pulp and paper and many chemical products finally wood is still an important fuel in much of the world in botanical terms wood is part of the system that conveys water and dissolved minerals from the roots to the rest of the plant stores food created by photosynthesis and furnishes mechanical support it is produced by an estimated 25 000 to 30 000 species of plants including herbaceous ones though only 3 000 to 4 000 species produce wood that is suitable for use as a material wood producing forest trees and other woody plants are of two categories gymnosperms and angiosperms gymnosperms or cone bearing trees produce softwoods such as pine and spruce and angiosperms produce temperate and tropical hardwoods such as oak beech teak and balsa it should be noted that the distinction implied by hardwood and softwood is not true in all cases some hardwoods e g balsa are softer than some softwoods e g yew wood is a material of great economic importance it is found throughout the world and can be sustainably managed as a renewable resource in contrast to coal ores and petroleum which are gradually exhausted by means of its harvesting in forests its transportation its processing in workshops and industries and its trade and use wood provides jobs and supports economic development and in some countries basic subsistence indicative of this importance is the continued high demand for wood and wood products on a weight basis the consumption of wood exceeds by far that of other materials more than half of roundwood log production is consumed as fuel mainly in less developed countries production of paper and paperboard has shown the most rapid increase among wood products this trend is expected to continue as consumption per person in the less developed countries approaches that in the developed nations rising world population is the driving force of increasing consumption of wood and consequent deforestation the depletion of many forests especially in the tropics makes uncertain the provision of an adequate wood supply to satisfy the anticipated need efforts to stop the reduction of earth s forest cover and increase the productivity of existing forests establishment of extensive reforestation programs and plantations of fast growing tree species recycling of paper and improved utilization of wood through research could ease the problem of wood supply and help to lessen the environmental toll of the lumber industry harvesting of wood differs radically from harvesting of other crops the yearly growth of each individual tree cannot be detached from the living plant rather new wood is added inseparably to preexisting growth until the entire tree is harvested after a waiting period that varies widely depending on intended use of the wood for example 2 3 years on energy plantations where biomass is produced as fuel for power generation 6 8 years for pulpwood eucalypts 12 15 years for fast growing poplar hybrids 30 50 years for fast growing pines and 100 years or more in temperate and tropical forests producing wood of large dimensions a prerequisite to harvesting is a management plan which determines the yearly yield and the method of removal the harvest method chosen can involve clear cutting large areas or selective cutting of individual trees or groups of trees for a forest harvested under the sustained yield concept the volume of timber removed at periodic intervals is dependent on the net growth of all trees as estimated by statistical sampling during that interval this concept combined with natural and artificial seeding and planting ensures a continuous production of wood and conservation of forests to promote sustained yield management efforts have been made to introduce appropriate ecological labeling ecolabeling of marketed wood and wood products ecolabeling is intended to ensure that goods offered to the consumer have not been produced in a way detrimental to the environment the season of harvest is not determined by the time of ripening as it is for agricultural crops but by such factors as the conditions of work for personnel machines and animals such as nesting birds and the danger of damage to the remaining forest and to the harvested wood because felled trees are vulnerable to attack by fungi and insects the harvest may be timed to avoid conditions favourable for these organisms time of harvesting becomes a consideration mainly when the felled trees will not be removed quickly from the forest for processing otherwise for example in the united states harvesting is a year round activity harvesting includes marking the trees to be removed in selective cutting felling and processing conversion of trees and transportation of the wood from the felling site or stump area to a roadside storage site or a central processing yard landing in the forest processing includes top removal topping delimbing crosscutting into logs bucking debarking and sometimes chipping of undesirable trees or logging residues processing may be done totally or partially in the forest in the latter case the remaining work is completed in a sawmill or other woodworking facility felled trees are handled by one of three harvesting systems shortwood longwood or tree length or whole tree in shortwood harvesting trees are completely processed except perhaps for debarking at the felling site the logs are then transported to a storage yard or site and eventually to the factory where if needed they are debarked by machine in longwood harvesting the trees are only topped and delimbed at the felling site the resulting long logs are then transported to the factory to be debarked and bucked the whole tree system omits processing at the felling site topping and delimbing are done in a central processing yard and debarking and bucking are performed either there or at the factory in general the shortwood system has the widest application marking of trees is done with a branding hammer or paint felling is commonly accomplished by chain saw ax and handsaw are seldom used today the standard technique for felling is to make an angular front cut or undercut on the side of the tree in the chosen direction of felling and then to saw a back cut so that the narrow strip of wood left between undercut and back cut breaks when the tree falls the chain saw is also used for delimbing and bucking and debarking is sometimes done in the forest by ax or spud a combination of spade and chisel in various forests of the world animals such as horses mules oxen and elephants are employed for skidding dragging the wood from the felling site to a concentration yard in contrast to the labour intensiveness of such traditional harvesting a great variety of machines are available for all the above operations felling machines fellers are equipped with shears chain saws or circular saws they are usually employed on small diameter trees e g for pulpwood but larger machines are available for trees up to about 50 cm 20 inches in diameter some machines are specialized to perform separate operations such as delimbing or debarking whereas others carry out combined operations for example feller bunchers fell and pile bunch trees harvesters combine felling delimbing and bucking the logs are then loaded on forwarders for transport to a landing processors top delimb and bunch felled trees and pile the logs after the trees are bucked feller skidders combine felling and skidding operations chippers can chip whole trees and load the chips into trucks or trailers also available are portable debarkers and portable machines called tree monkeys that can delimb actually prune and debark standing trees mechanical transportation is by wheeled or crawler tracked equipment by cable systems and seldom by helicopter or giant balloon in cable systems also called highland or skyline systems the logs are transported while lifted partially or wholly off the ground in the northwestern united states tall trees 80 100 metres about 250 300 feet high their tops cut off by a climbing logger are employed as masts or spar trees to attach the cables pulpwood logs are sometimes bundled at the felling site and transported on trailers to storage yards or directly to pulp mills loading is generally mechanized if an operation such as bucking or debarking is not completed in the forest it is performed in the factory by stationary machines or in the case of debarking by water jets mechanization of harvesting is the trend but regions of small annual yield and unfavourable topography restrict the potential of expensive machines and in many countries human and animal labour is still commonly used high mechanization in combination with extensive clear cutting has very adverse environmental consequences both in terms of carbon sequestration and in terms of the impact on biodiversity even when the forest is not entirely cleared what remains is often a fragmented patchwork of forest habitat and fields or in the event of more intensive logging islands of forest surrounded by a sea of cleared areas in mechanized selective logging forests must be open enough to accommodate the machinery which necessitates the removal of nontarget trees and understory growth selective logging often increases the flammability of the forest because it converts a closed wetter forest into a more open drier one heavy machinery compacts the soil making it difficult for plant species to naturally recover for a detailed discussion of the management and conservation of forested land see forestry utilization of wood this section discusses the products of primary mechanical processing of wood roundwood products e g poles and pilings sawn wood primarily lumber veneer plywood and laminated wood particleboard fibreboard and pulp and paper it also discusses treatments drying and preservation that have been devised to improve the performance of wood in use and the chemical products that are derived or extracted from wood some products of primary manufacture such as poles and posts are used directly but many constitute intermediate materials that by further processing are turned into secondary products such as furniture building structures and components containers and musical instruments primary products roundwood products poles posts and certain mine timbers are products in round form poles are used in supporting telegraph and telephone lines and as pilings foundations for wharves and buildings posts are used in fences highway guards and various supports as a rule roundwood products are subjected to preservative treatment the bark is removed in the forest or factory and poles and posts are further processed by shaving to remove surface irregularities by framing boring holes and making necessary cuts and by incising punching slitlike depressions to facilitate the entrance of preservative chemicals sawn wood lumber is the main sawn wood product lumber of large dimensions more than about 10 cm 4 inches in width and thickness and suitable for heavy constructions is called timber this loose term however is also applied to wood of a forest stand and to products of round form another important product made by sawing and sometimes by hewing is railroad ties although this section concentrates on lumber production of other sawn products such as parquet flooring is similar in principle production at the sawmill lumber is the product of the sawmill and ordinarily is not manufactured further than by sawing it is produced in varying sizes the usual approximate dimensions being 2 10 cm about 3 4 4 inches in thickness 8 cm about 3 inches and greater in width and 2 6 metres about 6 20 feet in length the conversion of logs to lumber involves breaking them down into boards of various thicknesses resawing ripping edging and crosscutting the organization of production varies in its detail in different manufacturing plants but can be described in general terms after transport from the forest logs are stored in water usually a pond or river or in a ground storage yard each log enters the mill on a conveyor in large operations it is mechanically debarked and in some it is crosscut to length supported on a carriage it is brought to a headsaw the first saw which is one of three types band saw frame gang saw or circular saw a band saw consists of an endless band of steel equipped with teeth usually on one edge only that moves around two wheels one powered and the other free running frame saws commonly consist of a reciprocating frame in which a number of saw blades are mounted parallel to each other at predetermined lateral distances a circular saw consists of a circular blade having teeth on its periphery and mounted on a shaft band and frame saws have relatively thin blades and are therefore less wasteful than circular saws band and circular saws permit changing board thickness and turning the log after each cut therefore breakdown is more advantageous in terms of yield and grade frame saws require that logs be sorted according to diameter because the position of the blades and thus the thickness of the lumber is determined accordingly frame saws are being largely replaced by band saws machines for other operations can be sited behind the headsaw in the production flow they include resaws band or circular saws edgers band or circular saws or chippers equipped with knives and trimmers circular saws for transverse cutting reakdown is accomplished in one or more operations for example a combination of circular and frame saws or two frame saws in series may be used the first saw removes slabs the outside pieces cut from a log and in certain cases some boards the piece produced is then turned 90 and introduced into the second saw which converts it into boards cant sawing the second operation may be considered resawing in general resawing consists of either dividing thick boards into thinner ones or producing boards from slabs ripping or edging is the removal of wane edge areas with bark or some missing wood from the sides of boards frequently done by passing the board through a machine that has two small circular saw blades mounted on a shaft one blade is stationary and the other can be moved sideways to set board width edging can also be done by chipping in a simultaneous sawing and chipping operation with the chips directed to pulp fibreboard or particleboard manufacture some valuable furniture woods are not edged in the sawmill finally certain boards are crosscut with trimmers to square their ends and remove defects other examples of combinations of machines used for breakdown include two band saws used as headsaw and resaw followed by edger and trimmer or a series of double band saws with chipping edgers in some sawmills and other wood using industries computers are employed to regulate positioning of logs and other plant kingdom plantae any multicellular eukaryotic life form characterized by 1 photosynthetic nutrition a characteristic possessed by all plants except some parasitic plants and underground orchids in which chemical energy is produced from water minerals and carbon dioxide with the aid of pigments and the radiant energy of the sun 2 essentially unlimited growth at localized regions 3 cells that contain cellulose in their walls and are therefore to some extent rigid 4 the absence of organs of locomotion resulting in a more or less stationary existence 5 the absence of nervous systems and 6 life histories that show an alteration of haploid and diploid generations with the dominance of one over the other being taxonomically significant oleds are organic leds which means that their key building blocks are organic i e carbon based materials unlike leds which are small point light sources oleds are made in sheets that are diffuse area light sources oled technology is developing rapidly and there are a handful of product offerings with efficacy lifetime and color quality specs that are comparable to their led counterparts however oleds are still some years away from widespread use as a source of general illumination largely due to their high cost structure of oleds an oled is a solid state device consisting of a thin carbon based semiconductor layer that emits light when electricity is applied by adjacent electrodes in order for light to escape from the device at least one of the electrodes must be transparent the intensity of the light emitted is controlled by the amount of electric current applied by the electrodes and the light s color is determined by the type of emissive material used to create white light most devices use red green and blue emitters that can be arranged in several configurations as illustrated below advantages of oleds the energy saving potential of oleds is similar to that of leds but the two technologies differ in a number of ways for one thing whereas leds are concentrated sources of bright light oleds can be configured as larger area more diffuse light sources whose soft light can be viewed directly eliminating the need for shades diffusers lenses louvers or parabolic shells the diffuse light from oleds allows them to be used very close to the task surface without creating glare for the user which means that less total light can be used in order to achieve desired illuminance levels and oleds can be made very thin increasing their eye appeal and allowing for easy attachment to the surfaces of walls and ceilings this coupled with the diffuse nature of oled lighting could enable an entirely new type of light and light fixture that s both attractive and highly efficient oleds can also be made in almost any shape can be deposited on flexible substrates and can be transparent emitting light from both sides of the device features that greatly expand the design possibilities allowing for a completely new lighting experience future of oleds oleds for general illumination are at a critical stage oled panels the light emitting devices used to construct a luminaire with efficacies of 85 lm w and cri 90 are available so are panels with high brightness which allow for smaller devices that achieve the same light output levels the lifetime of oled panels is also improving with many products expecting 30 000 50 000 hours of use before the light output decreases to 70 percent of the initial value but these advances don t address the major barrier to oled market adoption which is cost the current price of an oled panel is around 100 klm doe s solid state lighting opportunities document projects that in order for oled lighting to become commercially viable panel cost needs to drop to around 10 klm learn more about advanced lighting r d challenges and doe funded advanced lighting r d projects review doe oled studies that offer insight on the performance of today s oled lighting products and the technology improvements needed for commercial viability apple has always been a step ahead of its competitors according to the latest report apple will be tsmc s first 3nm chip customer for the m2 powered macbook pro series taiwan semiconductor manufacturing company tsmc a multinational semiconductor contact chipmaker announced risk production of the much awaited 3 nm process node in the next half of 2022 tentatively september tsmc manufactures semiconductors for technology giants like apple and nvidia early revelations about the 2nm chips set to arrive by 2025 have also been made risk production means that the company has developed basic production formulas and the process has passed reliability tests the announcement is an upgrade from the 5nm process that was rolled out for mass production in 2020 small chips big impact tsmc and samsung are set to become the only two entities producing 3nm chips globally the chips will enable the development of integrated circuits that speed up the device performance without draining the battery the technological advance is expected to cater to the 5g smartphones market and other electronic products tsmc s technology would be used in central processors graphics processors and ai accelerators collectively known as high performance computing modem chips for 5g and future generation 6g wireless devices would also use tsmc s 3nm technology the 3nm process allows 250 million transistors per square nanometre while the 2nm technology will enable over 310 million transistors in the same area higher transistor counts lower power consumption while enabling better performance with the same power usage but where do other players stand in the market samsung s chip division has significantly contributed to the company s success especially with the global chip shortage since the pandemic it contributed two third of the company s operating profit in fy 22 q2 applying gate all around gaa transistor architecture samsung electronics has already begun shipping out 3nm chips but only for cryptocurrency miners the company recently announced a new research and development facility for semiconductor chips the new plant is in south korea and the company is expected to spend krw 20 trillion nearly 15 billion on this facility by 2028 the new facility will be a critical research base for the company in semiconductor r d fields such as fabless system semiconductor design foundry and memory the semiconductor r d line is likely to be operational in 2025 in april 2022 intel corp announced the arrival of the 18a 10 angstroms 1 nanometre node which had earlier been postponed to late 2024 and was originally expected to be launched in 2025 18a is a refinement of 20a which was announced as a part of the company s five nodes in four years in the collective memory the company had stalled out from 2015 to 2019 trying to move from 14nm to 10nm the news around 2nm seems to be an announcement to silence the critics who had suggested that the company may be unable to advance to new nodes over time as per a recent announcement intel will manufacture chips for mediatek establishing it as the first major silicon customer for intel s revitalised contract chip manufacturing business announced in 2021 ibm s 2nm chip is expected to perform 45 per cent better or use 75 per cent less energy than their current most advanced 7 nm node chips the company also claims that its chips are slightly denser than tsmc s upcoming 3nm chips the big blue does not manufacture its own chips anymore it already shares its chip designs with other companies through the openpower consortium and its most advanced 7nm power chips are produced by samsung which certainly can t mass produce 2nm chips yet tsmc the flag bearer earlier in august 2022 us house speaker nancy pelosi s controversial trip to taiwan re emphasised the island nation s critical role in the global chip industry particularly tsmc the taiwanese chip manufacturing giant reported high demand for chips used in 5g smartphones notebooks and high performance computers in 2019 as a result its 2020 revenue rose 25 2 per cent yearly to nt 1 33 trillion us 47 billion according to analysts the volume production of chips below the 2nm level will require developing new materials and a purpose built factory both very costly investments tsmc accounts for nearly 50 per cent of the global production of microchips of sizes 10nm and below nearly 50 per cent of all microchips produced by tsmc are imported by china in the last fiscal year alone china imported microchips worth 104 billion the taiwanese giant s 2nm and 3nm processes are likely to give it an edge over its major rival samsung electronics while also keeping it well ahead of semiconductor manufacturing international corp smic there are few things in the world as simple as sand and perhaps none as complex as computer chips yet the simple element silicon in sand is the starting point for making the integrated circuits that power everything today from supercomputers to cell phones to microwave ovens turning sand into tiny devices with millions of components is an extraordinary feat of science and engineering that would have seemed impossible when the transistor was invented at bell labs in 1947 more computerworld quickstudies silicon is a natural semiconductor under some conditions it conducts electricity under others it acts as an insulator silicon s electrical properties can be altered by the addition of impurities a process called doping these characteristics make it an ideal material for making transistors which are simple devices that amplify electrical signals transistors can also act as switches on off devices used in combination to represent the boolean operators and or and not several types of microchips are made today microprocessors are logic chips that perform the computations inside most commercial computers memory chips store information digital signal processors convert between analog and digital signals quicklink a2270 application specific integrated circuits are special purpose chips used in things such as cars and appliances the process chips are made in multibillion dollar fabrication plants called fabs fabs melt and refine sand to produce 99 9999 pure single crystal silicon ingots saws slice the ingots into wafers about as thick as a dime and several inches in diameter the wafers are cleaned and polished and each one is used to build multiple chips these and subsequent steps are done in a clean room environment where extensive precautions are taken to prevent contamination by dust and other foreign substances a nonconducting layer of silicon dioxide is grown or deposited on the surface of the silicon wafer and that layer is covered with a photosensitive chemical called a photoresist the photoresist is exposed to ultraviolet light shined through a patterned plate or mask which hardens the areas exposed to the light unexposed areas are then etched away by hot gasses to reveal the silicon dioxide base below the base and the silicon layer below are further etched to varying depths the photoresist hardened by this process of photolithography is then stripped away leaving a 3 d landscape on the chip that replicates the circuit design embodied in the mask the electrical conductivity of certain parts of the chip can also be altered by doping them with chemicals under heat and pressure photolithography using different masks followed by more etching and doping can be repeated hundreds of times for the same chip producing a more complex integrated circuit at each step to create conducting paths between the components etched into the chip the entire chip is overlaid with a thin layer of metal usually aluminum and the lithography and etching process is used again to remove all but the thin conducting pathways sometimes several layers of conductors separated by glass insulators are laid down each chip on the wafer is tested for correct performance and then separated from other chips on the wafer by a saw good chips are placed into the supporting packages that allow them to be plugged into circuit boards and bad chips are marked and discarded'"
      ]
     },
     "execution_count": 3,
     "metadata": {},
     "output_type": "execute_result"
    }
   ],
   "source": [
    "text = '''wood, the principal strengthening and nutrient-conducting tissue of trees and other plants and one of the most abundant and versatile natural materials. Produced by many botanical species, including both gymnosperms and angiosperms, wood is available in various colours and grain patterns. It is strong in relation to its weight, is insulating to heat and electricity, and has desirable acoustic properties. Furthermore, it imparts a feeling of “warmth” not possessed by competing materials such as metals or stone, and it is relatively easily worked. As a material, wood has been in service since humans appeared on Earth. Today, in spite of technological advancement and competition from metals, plastics, cement, and other materials, wood maintains a place in most of its traditional roles, and its serviceability is expanding through new uses. In addition to well-known products such as lumber, furniture, and plywood, wood is the raw material for wood-based panels, pulp and paper, and many chemical products. Finally, wood is still an important fuel in much of the world.\n",
    "In botanical terms, wood is part of the system that conveys water and dissolved minerals from the roots to the rest of the plant, stores food created by photosynthesis, and furnishes mechanical support. It is produced by an estimated 25,000 to 30,000 species of plants, including herbaceous ones, though only 3,000 to 4,000 species produce wood that is suitable for use as a material. Wood-producing forest trees and other woody plants are of two categories: gymnosperms and angiosperms. Gymnosperms, or cone-bearing trees, produce softwoods, such as pine and spruce, and angiosperms produce temperate and tropical hardwoods, such as oak, beech, teak, and balsa. It should be noted that the distinction implied by hardwood and softwood is not true in all cases. Some hardwoods—e.g., balsa—are softer than some softwoods—e.g., yew.\n",
    "Wood is a material of great economic importance. It is found throughout the world and can be sustainably managed as a renewable resource—in contrast to coal, ores, and petroleum, which are gradually exhausted. By means of its harvesting in forests, its transportation, its processing in workshops and industries, and its trade and use, wood provides jobs and supports economic development and, in some countries, basic subsistence. Indicative of this importance is the continued high demand for wood and wood products.\n",
    "\n",
    "On a weight basis, the consumption of wood exceeds by far that of other materials. More than half of roundwood (log) production is consumed as fuel, mainly in less-developed countries. Production of paper and paperboard has shown the most rapid increase among wood products; this trend is expected to continue as consumption per person in the less-developed countries approaches that in the developed nations. Rising world population is the driving force of increasing consumption of wood and consequent deforestation. The depletion of many forests, especially in the tropics, makes uncertain the provision of an adequate wood supply to satisfy the anticipated need. Efforts to stop the reduction of Earth’s forest cover and increase the productivity of existing forests, establishment of extensive reforestation programs and plantations of fast-growing tree species, recycling of paper, and improved utilization of wood through research could ease the problem of wood supply and help to lessen the environmental toll of the lumber industry.\n",
    "Harvesting of wood differs radically from harvesting of other crops. The yearly growth of each individual tree cannot be detached from the living plant. Rather, new wood is added inseparably to preexisting growth until the entire tree is harvested, after a waiting period that varies widely depending on intended use of the wood—for example, 2–3 years on energy plantations (where biomass is produced as fuel for power generation), 6–8 years for pulpwood (eucalypts), 12–15 years for fast-growing poplar hybrids, 30–50 years for fast-growing pines, and 100 years or more in temperate and tropical forests producing wood of large dimensions.\n",
    "A prerequisite to harvesting is a management plan, which determines the yearly yield and the method of removal. The harvest method chosen can involve clear-cutting large areas or selective cutting of individual trees or groups of trees. For a forest harvested under the sustained-yield concept, the volume of timber removed at periodic intervals is dependent on the net growth of all trees—as estimated by statistical sampling—during that interval. This concept, combined with natural and artificial seeding and planting, ensures a continuous production of wood and conservation of forests. To promote sustained-yield management, efforts have been made to introduce appropriate ecological labeling (ecolabeling) of marketed wood and wood products. Ecolabeling is intended to ensure that goods offered to the consumer have not been produced in a way detrimental to the environment.\n",
    "\n",
    "The season of harvest is not determined by the time of ripening, as it is for agricultural crops, but by such factors as the conditions of work for personnel, machines, and animals, such as nesting birds, and the danger of damage to the remaining forest and to the harvested wood. Because felled trees are vulnerable to attack by fungi and insects, the harvest may be timed to avoid conditions favourable for these organisms. Time of harvesting becomes a consideration mainly when the felled trees will not be removed quickly from the forest for processing. Otherwise—for example, in the United States—harvesting is a year-round activity.\n",
    "Harvesting includes marking the trees to be removed (in selective cutting), felling and processing (conversion) of trees, and transportation of the wood from the felling site, or stump area, to a roadside storage site or a central processing yard (landing) in the forest. Processing includes top removal (topping), delimbing, crosscutting into logs (bucking), debarking, and sometimes chipping of undesirable trees or logging residues. Processing may be done totally or partially in the forest; in the latter case, the remaining work is completed in a sawmill or other woodworking facility.\n",
    "Felled trees are handled by one of three harvesting systems: shortwood, longwood (or tree-length), or whole-tree. In shortwood harvesting, trees are completely processed (except perhaps for debarking) at the felling site; the logs are then transported to a storage yard or site and eventually to the factory where, if needed, they are debarked by machine. In longwood harvesting, the trees are only topped and delimbed at the felling site; the resulting long logs are then transported to the factory to be debarked and bucked. The whole-tree system omits processing at the felling site; topping and delimbing are done in a central processing yard, and debarking and bucking are performed either there or at the factory. In general, the shortwood system has the widest application.\n",
    "\n",
    "Marking of trees is done with a branding hammer or paint. Felling is commonly accomplished by chain saw; ax and handsaw are seldom used today. The standard technique for felling is to make an angular front cut, or undercut, on the side of the tree in the chosen direction of felling and then to saw a back cut so that the narrow strip of wood left between undercut and back cut breaks when the tree falls. The chain saw is also used for delimbing and bucking, and debarking is sometimes done in the forest by ax or spud (a combination of spade and chisel). In various forests of the world, animals such as horses, mules, oxen, and elephants are employed for skidding (dragging) the wood from the felling site to a concentration yard.\n",
    "In contrast to the labour intensiveness of such traditional harvesting, a great variety of machines are available for all the above operations. Felling machines (fellers) are equipped with shears, chain saws, or circular saws; they are usually employed on small-diameter trees (e.g., for pulpwood), but larger machines are available for trees up to about 50 cm (20 inches) in diameter. Some machines are specialized to perform separate operations such as delimbing or debarking, whereas others carry out combined operations. For example, feller-bunchers fell and pile (bunch) trees. Harvesters combine felling, delimbing, and bucking; the logs are then loaded on forwarders for transport to a landing. Processors top, delimb, and bunch felled trees and pile the logs after the trees are bucked. Feller-skidders combine felling and skidding operations. Chippers can chip whole trees and load the chips into trucks or trailers. Also available are portable debarkers and portable machines called tree monkeys that can delimb (actually prune) and debark standing trees. Mechanical transportation is by wheeled or crawler (tracked) equipment, by cable systems, and seldom by helicopter or giant balloon. In cable systems (also called highland, or skyline, systems) the logs are transported while lifted partially or wholly off the ground. In the northwestern United States tall trees 80–100 metres (about 250–300 feet) high, their tops cut off by a climbing logger, are employed as masts, or spar trees, to attach the cables. Pulpwood logs are sometimes bundled at the felling site and transported on trailers to storage yards or directly to pulp mills. Loading is generally mechanized. If an operation, such as bucking or debarking, is not completed in the forest, it is performed in the factory by stationary machines or, in the case of debarking, by water jets.\n",
    "Mechanization of harvesting is the trend, but regions of small annual yield and unfavourable topography restrict the potential of expensive machines, and in many countries human and animal labour is still commonly used. High mechanization in combination with extensive clear-cutting has very adverse environmental consequences, both in terms of carbon sequestration and in terms of the impact on biodiversity. Even when the forest is not entirely cleared, what remains is often a fragmented patchwork of forest habitat and fields or, in the event of more intensive logging, “islands” of forest surrounded by a “sea” of cleared areas. In mechanized selective logging, forests must be open enough to accommodate the machinery, which necessitates the removal of nontarget trees and understory growth. Selective logging often increases the flammability of the forest because it converts a closed, wetter forest into a more open, drier one. Heavy machinery compacts the soil, making it difficult for plant species to naturally recover. (For a detailed discussion of the management and conservation of forested land, see forestry.)\n",
    "Utilization of wood\n",
    "This section discusses the products of primary mechanical processing of wood—roundwood products (e.g., poles and pilings), sawn wood (primarily lumber), veneer, plywood and laminated wood, particleboard, fibreboard, and pulp and paper. It also discusses treatments (drying and preservation) that have been devised to improve the performance of wood in use and the chemical products that are derived or extracted from wood. Some products of primary manufacture, such as poles and posts, are used directly, but many constitute intermediate materials that by further processing are turned into secondary products such as furniture, building structures and components, containers, and musical instruments.\n",
    "\n",
    "Primary products\n",
    "Roundwood products\n",
    "Poles, posts, and certain mine timbers are products in round form. Poles are used in supporting telegraph and telephone lines and as pilings (foundations for wharves and buildings); posts are used in fences, highway guards, and various supports. As a rule, roundwood products are subjected to preservative treatment. The bark is removed in the forest or factory, and poles and posts are further processed by shaving to remove surface irregularities, by framing (boring holes and making necessary cuts), and by incising (punching slitlike depressions to facilitate the entrance of preservative chemicals).\n",
    "\n",
    "Sawn wood\n",
    "Lumber is the main sawn wood product. Lumber of large dimensions—more than about 10 cm (4 inches) in width and thickness—and suitable for heavy constructions is called timber. This loose term, however, is also applied to wood of a forest stand and to products of round form. Another important product made by sawing, and sometimes by hewing, is railroad ties. Although this section concentrates on lumber, production of other sawn products (such as parquet flooring) is similar in principle.\n",
    "\n",
    "Production at the sawmill\n",
    "Lumber is the product of the sawmill and ordinarily is not manufactured further than by sawing. It is produced in varying sizes, the usual approximate dimensions being 2–10 cm (about 3/4–4 inches) in thickness, 8 cm (about 3 inches) and greater in width, and 2–6 metres (about 6–20 feet) in length. The conversion of logs to lumber involves breaking them down into boards of various thicknesses, resawing, ripping (edging), and crosscutting.\n",
    "\n",
    "The organization of production varies in its detail in different manufacturing plants but can be described in general terms. After transport from the forest, logs are stored in water, usually a pond or river, or in a ground storage yard. Each log enters the mill on a conveyor; in large operations it is mechanically debarked, and in some it is crosscut to length. Supported on a carriage, it is brought to a headsaw (the first saw), which is one of three types: band saw, frame (gang) saw, or circular saw. A band saw consists of an endless band of steel, equipped with teeth usually on one edge only, that moves around two wheels—one powered and the other free-running. Frame saws commonly consist of a reciprocating frame in which a number of saw blades are mounted parallel to each other at predetermined lateral distances. A circular saw consists of a circular blade having teeth on its periphery and mounted on a shaft. Band and frame saws have relatively thin blades and are therefore less wasteful than circular saws. Band and circular saws permit changing board thickness and turning the log after each cut; therefore, breakdown is more advantageous in terms of yield and grade. Frame saws require that logs be sorted according to diameter, because the position of the blades (and thus the thickness of the lumber) is determined accordingly. Frame saws are being largely replaced by band saws. Machines for other operations can be sited behind the headsaw in the production flow; they include resaws (band or circular saws), edgers (band or circular saws, or chippers equipped with knives), and trimmers (circular saws for transverse cutting).\n",
    "\n",
    "reakdown is accomplished in one or more operations. For example, a combination of circular and frame saws, or two frame saws in series, may be used. The first saw removes slabs (the outside pieces cut from a log) and, in certain cases, some boards. The piece produced is then turned 90° and introduced into the second saw, which converts it into boards (cant sawing). The second operation may be considered resawing; in general, resawing consists of either dividing thick boards into thinner ones or producing boards from slabs. Ripping, or edging, is the removal of wane (edge areas with bark or some missing wood) from the sides of boards, frequently done by passing the board through a machine that has two small circular saw blades mounted on a shaft; one blade is stationary and the other can be moved sideways to set board width. Edging can also be done by chipping in a simultaneous sawing and chipping operation, with the chips directed to pulp, fibreboard, or particleboard manufacture. (Some valuable furniture woods are not edged in the sawmill.) Finally, certain boards are crosscut with trimmers to square their ends and remove defects. Other examples of combinations of machines used for breakdown include two band saws (used as headsaw and resaw), followed by edger and trimmer, or a series of double band saws with chipping edgers. In some sawmills (and other wood-using industries) computers are employed to regulate positioning of logs and other\n",
    "\n",
    "plant, (kingdom Plantae), any multicellular eukaryotic life-form characterized by (1) photosynthetic nutrition (a characteristic possessed by all plants except some parasitic plants and underground orchids), in which chemical energy is produced from water, minerals, and carbon dioxide with the aid of pigments and the radiant energy of the Sun, (2) essentially unlimited growth at localized regions, (3) cells that contain cellulose in their walls and are therefore to some extent rigid, (4) the absence of organs of locomotion, resulting in a more or less stationary existence, (5) the absence of nervous systems, and (6) life histories that show an alteration of haploid and diploid generations, with the dominance of one over the other being taxonomically significant.\n",
    "\n",
    "OLEDs are organic LEDs, which means that their key building blocks are organic (i.e., carbon-based) materials. Unlike LEDs, which are small-point light sources, OLEDs are made in sheets that are diffuse-area light sources. OLED technology is developing rapidly, and there are a handful of product offerings with efficacy, lifetime, and color quality specs that are comparable to their LED counterparts. However, OLEDs are still some years away from widespread use as a source of general illumination, largely due to their high cost.\n",
    "\n",
    "STRUCTURE OF OLEDS\n",
    "An OLED is a solid-state device consisting of a thin, carbon-based semiconductor layer that emits light when electricity is applied by adjacent electrodes. In order for light to escape from the device, at least one of the electrodes must be transparent. The intensity of the light emitted is controlled by the amount of electric current applied by the electrodes, and the light's color is determined by the type of emissive material used. To create white light, most devices use red, green, and blue emitters that can be arranged in several configurations, as illustrated below.\n",
    "\n",
    "ADVANTAGES OF OLEDS\n",
    "The energy-saving potential of OLEDs is similar to that of LEDs, but the two technologies differ in a number of ways. For one thing, whereas LEDs are concentrated sources of bright light, OLEDs can be configured as larger-area, more diffuse light sources whose soft light can be viewed directly, eliminating the need for shades, diffusers, lenses, louvers, or parabolic shells. The diffuse light from OLEDs allows them to be used very close to the task surface without creating glare for the user, which means that less total light can be used in order to achieve desired illuminance levels. And OLEDs can be made very thin, increasing their eye appeal and allowing for easy attachment to the surfaces of walls and ceilings. This, coupled with the diffuse nature of OLED lighting, could enable an entirely new type of light and light fixture that's both attractive and highly efficient. OLEDs can also be made in almost any shape, can be deposited on flexible substrates, and can be transparent, emitting light from both sides of the device—features that greatly expand the design possibilities, allowing for a completely new lighting experience.\n",
    "\n",
    "FUTURE OF OLEDS\n",
    "OLEDs for general illumination are at a critical stage. OLED \"panels\" (the light-emitting devices used to construct a luminaire) with efficacies of 85 lm/W and CRI >90 are available. So are panels with high brightness, which allow for smaller devices that achieve the same light output levels. The lifetime of OLED panels is also improving, with many products expecting 30,000–50,000 hours of use before the light output decreases to 70 percent of the initial value. But these advances don't address the major barrier to OLED market adoption, which is cost. The current price of an OLED panel is around $100/klm. DOE's Solid-State Lighting Opportunities document projects that in order for OLED lighting to become commercially viable, panel cost needs to drop to around $10/klm.\n",
    "\n",
    "Learn more about advanced lighting R&D challenges and DOE-funded advanced lighting R&D projects.\n",
    "Review DOE OLED studies that offer insight on the performance of today’s OLED lighting products and the technology improvements needed for commercial viability.\n",
    "\n",
    "Apple has always been a step ahead of its competitors. According to the latest report, Apple will be TSMC’s first 3nm chip customer for the M2-powered ‘MacBook Pro’ series.\n",
    "\n",
    "Taiwan Semiconductor Manufacturing Company (TSMC), a multinational semiconductor contact chipmaker, announced ‘risk production’ of the much-awaited 3-nm process node in the next half of 2022, tentatively September. TSMC manufactures semiconductors for technology giants like Apple and Nvidia. Early revelations about the 2nm chips set to arrive by 2025 have also been made.\n",
    "\n",
    "Risk production means that the company has developed basic production formulas, and the process has passed reliability tests. The announcement is an upgrade from the 5nm process that was rolled out for mass production in 2020. \n",
    "\n",
    "Small chips, big impact \n",
    "TSMC and Samsung are set to become the only two entities producing 3nm chips globally. The chips will enable the development of integrated circuits that speed up the device performance without draining the battery. The technological advance is expected to cater to the 5G smartphones market and other electronic products.\n",
    "\n",
    "TSMC’s technology would be used in central processors, graphics processors, and AI accelerators—collectively known as ‘high-performance computing’. Modem chips for 5G and future generation 6G wireless devices would also use TSMC’s 3nm technology.\n",
    "\n",
    "\n",
    "The 3nm process allows 250 million transistors per square nanometre while the 2nm technology will enable over 310 million transistors in the same area. Higher transistor counts lower power consumption while enabling better performance with the same power usage.\n",
    "\n",
    "But where do other players stand in the market?\n",
    "Samsung’s chip division has significantly contributed to the company’s success, especially with the global chip shortage since the pandemic. It contributed two-third of the company’s operating profit in FY-22 Q2.\n",
    "\n",
    "Applying Gate-All-Around (GAA) transistor architecture, Samsung Electronics has already begun shipping out 3nm chips, but only for cryptocurrency miners.\n",
    "\n",
    "The company recently announced a new research and development facility for semiconductor chips. The new plant is in South Korea, and the company is expected to spend KRW 20 trillion (nearly $15 billion) on this facility by 2028.\n",
    "\n",
    "The new facility will be a critical research base for the company in semiconductor R&D fields such as fabless system semiconductor design, foundry, and memory. The semiconductor R&D line is likely to be operational in 2025.\n",
    "\n",
    "In April 2022, Intel Corp announced the arrival of the 18A (10 angstroms = 1 nanometre) node, which had earlier been postponed to late 2024 and was originally expected to be launched in 2025. 18A is a refinement of 20A, which was announced as a part of the company’s ‘five nodes in four years’.\n",
    "\n",
    "In the collective memory, the company had stalled out from 2015 to 2019, trying to move from 14nm to 10nm. The news around 2nm seems to be an announcement to silence the critics who had suggested that the company may be unable to advance to new nodes over time.  \n",
    "\n",
    "​As per a recent announcement, Intel will manufacture chips for MediaTek, establishing it as the first major silicon customer for Intel’s revitalised contract chip manufacturing business.\n",
    "\n",
    "Announced in 2021, IBM’s 2nm chip is expected to perform 45 per cent better or use 75 per cent less energy than their current, most advanced 7 nm node chips. The company also claims that its chips are slightly denser than TSMC’s upcoming 3nm chips. \n",
    "\n",
    "The Big Blue does not manufacture its own chips anymore. It already shares its chip designs with other companies through the OpenPOWER consortium, and its most advanced 7nm Power chips are produced by Samsung—which certainly can’t mass produce 2nm chips yet.\n",
    "\n",
    "TSMC—The Flag Bearer\n",
    "Earlier in August 2022, US House Speaker Nancy Pelosi’s controversial trip to Taiwan re-emphasised the island nation’s critical role in the global chip industry, particularly TSMC.\n",
    "\n",
    "The Taiwanese chip manufacturing giant reported high demand for chips used in 5G smartphones, notebooks, and high-performance computers in 2019. As a result, its 2020 revenue rose 25.2 per cent yearly to NT$ 1.33 trillion (US$ 47 billion).\n",
    "\n",
    "According to analysts, the volume production of chips below the 2nm level will require developing new materials and a purpose-built factory—both very costly investments.\n",
    "\n",
    "TSMC accounts for nearly 50 per cent of the global production of microchips of sizes 10nm and below. Nearly 50 per cent of all microchips produced by TSMC are imported by China. In the last fiscal year alone, China imported microchips worth $104 billion.\n",
    "\n",
    "The Taiwanese giant’s 2nm and 3nm processes are likely to give it an edge over its major rival, Samsung Electronics, while also keeping it well ahead of Semiconductor Manufacturing International Corp (SMIC).\n",
    "\n",
    "There are few things in the world as simple as sand, and perhaps none as complex as computer chips. Yet the simple element silicon in sand is the starting point for making the integrated circuits that power everything today, from supercomputers to cell phones to microwave ovens.\n",
    "\n",
    "Turning sand into tiny devices with millions of components is an extraordinary feat of science and engineering that would have seemed impossible when the transistor was invented at Bell Labs in 1947.\n",
    "\n",
    "More\n",
    "\n",
    "Computerworld\n",
    "QuickStudies\n",
    "Silicon is a natural semiconductor. Under some conditions, it conducts electricity; under others, it acts as an insulator. Silicon's electrical properties can be altered by the addition of impurities, a process called doping. These characteristics make it an ideal material for making transistors, which are simple devices that amplify electrical signals. Transistors can also act as switches - on/off devices used in combination to represent the Boolean operators \"and,\" \"or\" and \"not.\"\n",
    "\n",
    "Several types of microchips are made today. Microprocessors are logic chips that perform the computations inside most commercial computers. Memory chips store information. Digital signal processors convert between analog and digital signals (QuickLink: a2270). Application-specific integrated circuits are special-purpose chips used in things such as cars and appliances.\n",
    "\n",
    "The Process\n",
    "\n",
    "Chips are made in multibillion-dollar fabrication plants called fabs. Fabs melt and refine sand to produce 99.9999% pure single-crystal silicon ingots. Saws slice the ingots into wafers about as thick as a dime and several inches in diameter. The wafers are cleaned and polished, and each one is used to build multiple chips. These and subsequent steps are done in a \"clean room\" environment, where extensive precautions are taken to prevent contamination by dust and other foreign substances.\n",
    "\n",
    "A nonconducting layer of silicon dioxide is grown or deposited on the surface of the silicon wafer, and that layer is covered with a photosensitive chemical called a photoresist.\n",
    "\n",
    "The photoresist is exposed to ultraviolet light shined through a patterned plate, or \"mask,\" which hardens the areas exposed to the light. Unexposed areas are then etched away by hot gasses to reveal the silicon dioxide base below. The base and the silicon layer below are further etched to varying depths.\n",
    "\n",
    "The photoresist hardened by this process of photolithography is then stripped away, leaving a 3-D landscape on the chip that replicates the circuit design embodied in the mask. The electrical conductivity of certain parts of the chip can also be altered by doping them with chemicals under heat and pressure. Photolithography using different masks, followed by more etching and doping, can be repeated hundreds of times for the same chip, producing a more complex integrated circuit at each step.\n",
    "\n",
    "To create conducting paths between the components etched into the chip, the entire chip is overlaid with a thin layer of metal - usually aluminum - and the lithography and etching process is used again to remove all but the thin conducting pathways. Sometimes several layers of conductors, separated by glass insulators, are laid down.\n",
    "\n",
    "Each chip on the wafer is tested for correct performance and then separated from other chips on the wafer by a saw. Good chips are placed into the supporting packages that allow them to be plugged into circuit boards, and bad chips are marked and discarded.'''\n",
    "\n",
    "text = text.lower()\n",
    "pattern = r'[^a-zA-z0-9]'\n",
    "\n",
    "data = re.sub(pattern, \" \",text).split()\n",
    "data = ' '.join(data)\n",
    "data"
   ]
  },
  {
   "cell_type": "markdown",
   "id": "3b44f0de",
   "metadata": {},
   "source": [
    "# do tokenization and encoding of text"
   ]
  },
  {
   "cell_type": "code",
   "execution_count": 4,
   "id": "1d2ef2b6",
   "metadata": {},
   "outputs": [
    {
     "name": "stdout",
     "output_type": "stream",
     "text": [
      "Vocabulary Size: 1506\n"
     ]
    }
   ],
   "source": [
    "tokenizer = Tokenizer()\n",
    "tokenizer.fit_on_texts([data])\n",
    "encoded = tokenizer.texts_to_sequences([data])[0]\n",
    "\n",
    "vocab_size = len(tokenizer.word_index) + 1\n",
    "print('Vocabulary Size: %d' % vocab_size)"
   ]
  },
  {
   "cell_type": "markdown",
   "id": "ab89100a",
   "metadata": {},
   "source": [
    "# define length of input sequence length and output."
   ]
  },
  {
   "cell_type": "code",
   "execution_count": 5,
   "id": "0e743c0d",
   "metadata": {},
   "outputs": [
    {
     "data": {
      "text/plain": [
       "[[12, 1, 578, 579, 2, 580, 215],\n",
       " [1, 578, 579, 2, 580, 215, 581],\n",
       " [578, 579, 2, 580, 215, 581, 3],\n",
       " [579, 2, 580, 215, 581, 3, 17],\n",
       " [2, 580, 215, 581, 3, 17, 2]]"
      ]
     },
     "execution_count": 5,
     "metadata": {},
     "output_type": "execute_result"
    }
   ],
   "source": [
    "seq_length = 7\n",
    "dataX = []\n",
    "dataY = []\n",
    "for i in range(0, len(encoded) - seq_length, 1):\n",
    "    seq_in = encoded[i:i + seq_length]\n",
    "    seq_out = encoded[i + seq_length]\n",
    "    dataX.append(seq_in)\n",
    "    dataY.append(seq_out)\n",
    "\n",
    "dataX[:5]"
   ]
  },
  {
   "cell_type": "code",
   "execution_count": 6,
   "id": "05076c63",
   "metadata": {},
   "outputs": [
    {
     "data": {
      "text/plain": [
       "[581, 3, 17, 2, 23]"
      ]
     },
     "execution_count": 6,
     "metadata": {},
     "output_type": "execute_result"
    }
   ],
   "source": [
    "dataY[:5]"
   ]
  },
  {
   "cell_type": "markdown",
   "id": "8bfa2078",
   "metadata": {},
   "source": [
    "# one hot encode y data to sparse matrix"
   ]
  },
  {
   "cell_type": "code",
   "execution_count": 7,
   "id": "7a28a74e",
   "metadata": {},
   "outputs": [],
   "source": [
    "X = np.array(dataX)\n",
    "# one hot encode the output variable\n",
    "y = to_categorical(dataY,num_classes=vocab_size)"
   ]
  },
  {
   "cell_type": "code",
   "execution_count": 8,
   "id": "b4bc6cd2",
   "metadata": {},
   "outputs": [
    {
     "data": {
      "text/plain": [
       "(4601, 1506)"
      ]
     },
     "execution_count": 8,
     "metadata": {},
     "output_type": "execute_result"
    }
   ],
   "source": [
    "y.shape"
   ]
  },
  {
   "cell_type": "code",
   "execution_count": 9,
   "id": "2ec9e1be",
   "metadata": {},
   "outputs": [
    {
     "data": {
      "text/plain": [
       "(4601, 7)"
      ]
     },
     "execution_count": 9,
     "metadata": {},
     "output_type": "execute_result"
    }
   ],
   "source": [
    "X.shape"
   ]
  },
  {
   "cell_type": "markdown",
   "id": "3893500f",
   "metadata": {},
   "source": [
    "# define,compile,fit the model"
   ]
  },
  {
   "cell_type": "code",
   "execution_count": 10,
   "id": "8e372ba2",
   "metadata": {},
   "outputs": [
    {
     "name": "stdout",
     "output_type": "stream",
     "text": [
      "Model: \"sequential\"\n",
      "_________________________________________________________________\n",
      "Layer (type)                 Output Shape              Param #   \n",
      "=================================================================\n",
      "embedding (Embedding)        (None, 7, 1536)           2313216   \n",
      "_________________________________________________________________\n",
      "lstm (LSTM)                  (None, 2048)              29368320  \n",
      "_________________________________________________________________\n",
      "dense (Dense)                (None, 5126)              10503174  \n",
      "_________________________________________________________________\n",
      "dense_1 (Dense)              (None, 1506)              7721262   \n",
      "=================================================================\n",
      "Total params: 49,905,972\n",
      "Trainable params: 49,905,972\n",
      "Non-trainable params: 0\n",
      "_________________________________________________________________\n",
      "None\n"
     ]
    }
   ],
   "source": [
    "\n",
    "# define model\n",
    "model = Sequential()\n",
    "model.add(Embedding(vocab_size,1536, input_length=7))\n",
    "model.add(LSTM(2048))\n",
    "model.add(Dense(5126, activation='relu'))\n",
    "model.add(Dense(vocab_size, activation='softmax'))\n",
    "print(model.summary())"
   ]
  },
  {
   "cell_type": "code",
   "execution_count": 11,
   "id": "3c0d59ec",
   "metadata": {
    "scrolled": true
   },
   "outputs": [
    {
     "name": "stdout",
     "output_type": "stream",
     "text": [
      "Epoch 1/25\n",
      "144/144 - 5s - loss: 6.6280 - accuracy: 0.0589\n",
      "Epoch 2/25\n",
      "144/144 - 3s - loss: 5.9654 - accuracy: 0.0939\n",
      "Epoch 3/25\n",
      "144/144 - 3s - loss: 5.2403 - accuracy: 0.1350\n",
      "Epoch 4/25\n",
      "144/144 - 3s - loss: 4.3679 - accuracy: 0.1932\n",
      "Epoch 5/25\n",
      "144/144 - 3s - loss: 3.3977 - accuracy: 0.2808\n",
      "Epoch 6/25\n",
      "144/144 - 3s - loss: 2.4096 - accuracy: 0.4253\n",
      "Epoch 7/25\n",
      "144/144 - 3s - loss: 1.3501 - accuracy: 0.6383\n",
      "Epoch 8/25\n",
      "144/144 - 3s - loss: 0.6836 - accuracy: 0.8124\n",
      "Epoch 9/25\n",
      "144/144 - 3s - loss: 0.3114 - accuracy: 0.9205\n",
      "Epoch 10/25\n",
      "144/144 - 3s - loss: 0.1913 - accuracy: 0.9533\n",
      "Epoch 11/25\n",
      "144/144 - 3s - loss: 0.0893 - accuracy: 0.9804\n",
      "Epoch 12/25\n",
      "144/144 - 3s - loss: 0.0773 - accuracy: 0.9826\n",
      "Epoch 13/25\n",
      "144/144 - 3s - loss: 0.1294 - accuracy: 0.9730\n",
      "Epoch 14/25\n",
      "144/144 - 3s - loss: 0.1018 - accuracy: 0.9776\n",
      "Epoch 15/25\n",
      "144/144 - 3s - loss: 0.1123 - accuracy: 0.9776\n",
      "Epoch 16/25\n",
      "144/144 - 3s - loss: 0.1322 - accuracy: 0.9691\n",
      "Epoch 17/25\n",
      "144/144 - 3s - loss: 0.1395 - accuracy: 0.9678\n",
      "Epoch 18/25\n",
      "144/144 - 3s - loss: 0.1897 - accuracy: 0.9585\n",
      "Epoch 19/25\n",
      "144/144 - 3s - loss: 0.1322 - accuracy: 0.9700\n",
      "Epoch 20/25\n",
      "144/144 - 3s - loss: 0.0862 - accuracy: 0.9815\n",
      "Epoch 21/25\n",
      "144/144 - 3s - loss: 0.0627 - accuracy: 0.9865\n",
      "Epoch 22/25\n",
      "144/144 - 3s - loss: 0.0738 - accuracy: 0.9867\n",
      "Epoch 23/25\n",
      "144/144 - 3s - loss: 0.0654 - accuracy: 0.9870\n",
      "Epoch 24/25\n",
      "144/144 - 3s - loss: 0.0843 - accuracy: 0.9826\n",
      "Epoch 25/25\n",
      "144/144 - 3s - loss: 0.0884 - accuracy: 0.9809\n"
     ]
    },
    {
     "data": {
      "text/plain": [
       "<keras.callbacks.History at 0x11e0303d670>"
      ]
     },
     "execution_count": 11,
     "metadata": {},
     "output_type": "execute_result"
    }
   ],
   "source": [
    "model.compile(loss='categorical_crossentropy', optimizer='adam', metrics=['accuracy'])\n",
    "# fit network\n",
    "model.fit(X, y, epochs=25, verbose=2)"
   ]
  },
  {
   "cell_type": "code",
   "execution_count": 13,
   "id": "cf3291a0",
   "metadata": {},
   "outputs": [
    {
     "data": {
      "text/plain": [
       "'in botanical terms wood is part of the system that conveys water and dissolved minerals from the roots to the rest of the plant stores food created by photosynthesis and furnishes mechanical'"
      ]
     },
     "execution_count": 13,
     "metadata": {},
     "output_type": "execute_result"
    }
   ],
   "source": [
    "#def generate_text_seq(model, tokenizer, text_seq_length, seed_text, n_words):\n",
    "\n",
    "\n",
    "n_words =25\n",
    "\n",
    "# input text\n",
    "\n",
    "seed_text = 'in botanical terms wood is part of'\n",
    "text = []\n",
    "\n",
    "for _ in range(n_words):\n",
    "    encoded = tokenizer.texts_to_sequences([seed_text])[0]\n",
    "    encoded = pad_sequences([encoded], maxlen =seq_length, truncating='pre')\n",
    "\n",
    "    pred = model.predict(encoded)\n",
    "    y_predict = pred.argmax(axis=1)\n",
    "\n",
    "    #y_predict = model.predict_classes(encoded)\n",
    "\n",
    "    predicted_word = ''\n",
    "    for word, index in tokenizer.word_index.items():\n",
    "        if index == y_predict:\n",
    "            predicted_word = word\n",
    "            break\n",
    "    seed_text = seed_text + ' ' + predicted_word\n",
    "    text.append(predicted_word)\n",
    "   \n",
    "# output text\n",
    "\n",
    "seed_text"
   ]
  },
  {
   "cell_type": "code",
   "execution_count": 14,
   "id": "2cf4667b",
   "metadata": {},
   "outputs": [
    {
     "data": {
      "text/plain": [
       "'mechanization of harvesting is the trend but regions of small annual yield and unfavourable topography restrict the potential of expensive machines and 6 life histories that show an alteration of haploid and diploid generations with the dominance of one over the other being taxonomically significant oleds are organic leds which means that their key building blocks are organic i e carbon based materials unlike leds which are small point light sources oleds are made in sheets that are diffuse area light sources oled technology is developing rapidly and and and are therefore is crosscut to length supported on a carriage it is brought to a headsaw the'"
      ]
     },
     "execution_count": 14,
     "metadata": {},
     "output_type": "execute_result"
    }
   ],
   "source": [
    "n_words =100\n",
    "\n",
    "seed_text = 'mechanization of harvesting is the trend but'\n",
    "text = []\n",
    "\n",
    "for _ in range(n_words):\n",
    "    encoded = tokenizer.texts_to_sequences([seed_text])[0]\n",
    "    encoded = pad_sequences([encoded], maxlen =seq_length, truncating='pre')\n",
    "\n",
    "    pred = model.predict(encoded)\n",
    "    y_predict = pred.argmax(axis=1)\n",
    "\n",
    "    #y_predict = model.predict_classes(encoded)\n",
    "\n",
    "    predicted_word = ''\n",
    "    for word, index in tokenizer.word_index.items():\n",
    "        if index == y_predict:\n",
    "            predicted_word = word\n",
    "            break\n",
    "    seed_text = seed_text + ' ' + predicted_word\n",
    "    text.append(predicted_word)\n",
    "    \n",
    "seed_text"
   ]
  },
  {
   "cell_type": "code",
   "execution_count": 15,
   "id": "a5002682",
   "metadata": {},
   "outputs": [
    {
     "data": {
      "text/plain": [
       "'fungi and insects the harvest may be timed to avoid conditions favourable for these organisms time of harvesting becomes a consideration mainly when the felled trees will not be removed quickly from the forest for processing otherwise for example in the united states harvesting is a year round activity harvesting includes marking the trees to be removed in selective cutting felling and processing conversion of trees and transportation of the wood from the felling site or stump area to a roadside storage site or a central processing yard landing in the forest processing includes top removal topping delimbing crosscutting into'"
      ]
     },
     "execution_count": 15,
     "metadata": {},
     "output_type": "execute_result"
    }
   ],
   "source": [
    "n_words =100\n",
    "\n",
    "seed_text = 'felled trees are vulnerable to attack by '\n",
    "text = []\n",
    "\n",
    "for _ in range(n_words):\n",
    "    encoded = tokenizer.texts_to_sequences([seed_text])[0]\n",
    "    encoded = pad_sequences([encoded], maxlen =seq_length, truncating='pre')\n",
    "\n",
    "    pred = model.predict(encoded)\n",
    "    y_predict = pred.argmax(axis=1)\n",
    "\n",
    "    #y_predict = model.predict_classes(encoded)\n",
    "\n",
    "    predicted_word = ''\n",
    "    for word, index in tokenizer.word_index.items():\n",
    "        if index == y_predict:\n",
    "            predicted_word = word\n",
    "            break\n",
    "    seed_text = seed_text + ' ' + predicted_word\n",
    "    text.append(predicted_word)\n",
    "    \n",
    "' '.join(text)"
   ]
  },
  {
   "cell_type": "code",
   "execution_count": null,
   "id": "27e2499e",
   "metadata": {},
   "outputs": [],
   "source": []
  },
  {
   "cell_type": "code",
   "execution_count": 18,
   "id": "955a1c34",
   "metadata": {},
   "outputs": [
    {
     "data": {
      "text/plain": [
       "'OLED technology the organization of production varies in its detail in different manufacturing plants but can be described in general terms after transport from the forest logs are stored in water usually a pond or river or in a ground storage yard each log enters the mill on a conveyor in large operations it acts as an insulator silicon s electrical properties can be altered by doping them with chemicals under heat and pressure photolithography using different masks followed by more etching and doping can be repeated hundreds of times for the same chip producing a more complex integrated circuit at each'"
      ]
     },
     "execution_count": 18,
     "metadata": {},
     "output_type": "execute_result"
    }
   ],
   "source": [
    "n_words =100\n",
    "\n",
    "seed_text = 'OLED technology'\n",
    "text = []\n",
    "\n",
    "for _ in range(n_words):\n",
    "    encoded = tokenizer.texts_to_sequences([seed_text])[0]\n",
    "    encoded = pad_sequences([encoded], maxlen =seq_length, truncating='pre')\n",
    "\n",
    "    pred = model.predict(encoded)\n",
    "    y_predict = pred.argmax(axis=1)\n",
    "\n",
    "    #y_predict = model.predict_classes(encoded)\n",
    "\n",
    "    predicted_word = ''\n",
    "    for word, index in tokenizer.word_index.items():\n",
    "        if index == y_predict:\n",
    "            predicted_word = word\n",
    "            break\n",
    "    seed_text = seed_text + ' ' + predicted_word\n",
    "    text.append(predicted_word)\n",
    "    \n",
    "seed_text"
   ]
  },
  {
   "cell_type": "code",
   "execution_count": 19,
   "id": "0e8b8713",
   "metadata": {},
   "outputs": [
    {
     "data": {
      "text/plain": [
       "'taiwan semiconductor manufacturing company tsmc used in 5g smartphones notebooks and high performance computers in 2019 as a result its 2020 revenue rose 25 2 per cent yearly to nt 1 33 trillion us 47 billion according to analysts the volume production of chips below the 2nm level will require developing and and and and are products in round form poles are used in supporting telegraph and telephone lines and as pilings foundations for wharves and buildings posts are used in fences highway guards and various supports as a rule roundwood products are subjected to preservative treatment the bark is removed in the forest'"
      ]
     },
     "execution_count": 19,
     "metadata": {},
     "output_type": "execute_result"
    }
   ],
   "source": [
    "n_words =100\n",
    "\n",
    "seed_text = 'Taiwan Semiconductor Manufacturing Company'.lower()\n",
    "text = []\n",
    "\n",
    "for _ in range(n_words):\n",
    "    encoded = tokenizer.texts_to_sequences([seed_text])[0]\n",
    "    encoded = pad_sequences([encoded], maxlen =seq_length, truncating='pre')\n",
    "\n",
    "    pred = model.predict(encoded)\n",
    "    y_predict = pred.argmax(axis=1)\n",
    "\n",
    "    #y_predict = model.predict_classes(encoded)\n",
    "\n",
    "    predicted_word = ''\n",
    "    for word, index in tokenizer.word_index.items():\n",
    "        if index == y_predict:\n",
    "            predicted_word = word\n",
    "            break\n",
    "    seed_text = seed_text + ' ' + predicted_word\n",
    "    text.append(predicted_word)\n",
    "    \n",
    "seed_text"
   ]
  },
  {
   "cell_type": "code",
   "execution_count": 20,
   "id": "a66ac83d",
   "metadata": {},
   "outputs": [
    {
     "data": {
      "text/plain": [
       "'nancy pelosi s controversial trip to taiwan re emphasised the island nation s critical role in the global chip industry particularly tsmc the taiwanese chip manufacturing giant reported high demand for chips used in 5g smartphones notebooks and high performance computers in 2019 as a result its 2020 revenue rose 25 2 per cent yearly to nt 1 33 trillion us 47 billion according to analysts the volume production of chips below the 2nm level will require developing and and and and are products in round form poles are used in supporting telegraph and telephone lines and as pilings foundations for wharves'"
      ]
     },
     "execution_count": 20,
     "metadata": {},
     "output_type": "execute_result"
    }
   ],
   "source": [
    "n_words =100\n",
    "\n",
    "seed_text = 'nancy pelosi'\n",
    "text = []\n",
    "\n",
    "for _ in range(n_words):\n",
    "    encoded = tokenizer.texts_to_sequences([seed_text])[0]\n",
    "    encoded = pad_sequences([encoded], maxlen =seq_length, truncating='pre')\n",
    "\n",
    "    pred = model.predict(encoded)\n",
    "    y_predict = pred.argmax(axis=1)\n",
    "\n",
    "    #y_predict = model.predict_classes(encoded)\n",
    "\n",
    "    predicted_word = ''\n",
    "    for word, index in tokenizer.word_index.items():\n",
    "        if index == y_predict:\n",
    "            predicted_word = word\n",
    "            break\n",
    "    seed_text = seed_text + ' ' + predicted_word\n",
    "    text.append(predicted_word)\n",
    "    \n",
    "seed_text"
   ]
  },
  {
   "cell_type": "code",
   "execution_count": 21,
   "id": "8720cc57",
   "metadata": {},
   "outputs": [
    {
     "data": {
      "text/plain": [
       "'intel corp announced the organization of production varies in its detail in different manufacturing plants but can be described in general terms after transport from the forest logs are stored in water usually a pond or river or in a ground storage yard each log enters the mill on a conveyor in large operations it acts as an insulator silicon s electrical properties can be altered by doping them with chemicals under heat and pressure photolithography using different masks followed by more etching and doping can be repeated hundreds of times for the same chip producing a more complex integrated circuit at'"
      ]
     },
     "execution_count": 21,
     "metadata": {},
     "output_type": "execute_result"
    }
   ],
   "source": [
    "n_words =100\n",
    "\n",
    "seed_text = 'Intel Corp'.lower()\n",
    "text = []\n",
    "\n",
    "for _ in range(n_words):\n",
    "    encoded = tokenizer.texts_to_sequences([seed_text])[0]\n",
    "    encoded = pad_sequences([encoded], maxlen =seq_length, truncating='pre')\n",
    "\n",
    "    pred = model.predict(encoded)\n",
    "    y_predict = pred.argmax(axis=1)\n",
    "\n",
    "    #y_predict = model.predict_classes(encoded)\n",
    "\n",
    "    predicted_word = ''\n",
    "    for word, index in tokenizer.word_index.items():\n",
    "        if index == y_predict:\n",
    "            predicted_word = word\n",
    "            break\n",
    "    seed_text = seed_text + ' ' + predicted_word\n",
    "    text.append(predicted_word)\n",
    "    \n",
    "seed_text"
   ]
  },
  {
   "cell_type": "code",
   "execution_count": null,
   "id": "2bd7e5c0",
   "metadata": {},
   "outputs": [],
   "source": []
  },
  {
   "cell_type": "code",
   "execution_count": 22,
   "id": "13cb158a",
   "metadata": {},
   "outputs": [
    {
     "data": {
      "text/plain": [
       "'structure of oleds an oled is a solid state device consisting of a thin carbon based semiconductor layer that emits light when electricity is applied by adjacent electrodes in order for light to escape from the device at least one of the electrodes must be transparent the intensity of the light emitted is controlled by the amount of electric current applied by the electrodes and the light s color is determined by the type of emissive and materials offerings with efficacy lifetime and color quality specs that are comparable to their led counterparts however oleds are still some years away from widespread use'"
      ]
     },
     "execution_count": 22,
     "metadata": {},
     "output_type": "execute_result"
    }
   ],
   "source": [
    "n_words =100\n",
    "\n",
    "seed_text = 'STRUCTURE OF OLEDS'.lower()\n",
    "text = []\n",
    "\n",
    "for _ in range(n_words):\n",
    "    encoded = tokenizer.texts_to_sequences([seed_text])[0]\n",
    "    encoded = pad_sequences([encoded], maxlen =seq_length, truncating='pre')\n",
    "\n",
    "    pred = model.predict(encoded)\n",
    "    y_predict = pred.argmax(axis=1)\n",
    "\n",
    "    #y_predict = model.predict_classes(encoded)\n",
    "\n",
    "    predicted_word = ''\n",
    "    for word, index in tokenizer.word_index.items():\n",
    "        if index == y_predict:\n",
    "            predicted_word = word\n",
    "            break\n",
    "    seed_text = seed_text + ' ' + predicted_word\n",
    "    text.append(predicted_word)\n",
    "    \n",
    "seed_text"
   ]
  },
  {
   "cell_type": "code",
   "execution_count": 24,
   "id": "9a7c59b8",
   "metadata": {},
   "outputs": [
    {
     "data": {
      "text/plain": [
       "'where are chips are made today microprocessors are logic chips that perform the computations inside most commercial computers memory chips store information digital signal processors convert between analog and digital signals quicklink a2270 application specific integrated circuits are special purpose chips used in things such as cars and appliances the process chips are made in multibillion dollar fabrication plants called fabs fabs melt and refine sand to produce 99 9999 pure single crystal silicon ingots saws slice the ingots into wafers about as thick as a dime and several inches in diameter the wafers are cleaned and polished and each one is used to build'"
      ]
     },
     "execution_count": 24,
     "metadata": {},
     "output_type": "execute_result"
    }
   ],
   "source": [
    "n_words =100\n",
    "\n",
    "seed_text = 'where are Chips are made'.lower()\n",
    "text = []\n",
    "\n",
    "for _ in range(n_words):\n",
    "    encoded = tokenizer.texts_to_sequences([seed_text])[0]\n",
    "    encoded = pad_sequences([encoded], maxlen =seq_length, truncating='pre')\n",
    "\n",
    "    pred = model.predict(encoded)\n",
    "    y_predict = pred.argmax(axis=1)\n",
    "\n",
    "    #y_predict = model.predict_classes(encoded)\n",
    "\n",
    "    predicted_word = ''\n",
    "    for word, index in tokenizer.word_index.items():\n",
    "        if index == y_predict:\n",
    "            predicted_word = word\n",
    "            break\n",
    "    seed_text = seed_text + ' ' + predicted_word\n",
    "    text.append(predicted_word)\n",
    "    \n",
    "seed_text"
   ]
  },
  {
   "cell_type": "code",
   "execution_count": 27,
   "id": "6b6770d9",
   "metadata": {},
   "outputs": [
    {
     "data": {
      "text/plain": [
       "'risk production means that the company has developed basic production formulas and the process has passed reliability tests the announcement is an upgrade from the 5nm process sources oleds are made today in relation to its weight is insulating to heat and electricity and has desirable acoustic properties furthermore it imparts a feeling of warmth not possessed by materials materials materials and by such factors as the conditions of work for personnel machines and animals such as nesting birds and the danger of damage to the remaining forest and to the harvested wood because felled trees are vulnerable to attack by fungi and'"
      ]
     },
     "execution_count": 27,
     "metadata": {},
     "output_type": "execute_result"
    }
   ],
   "source": [
    "n_words =100\n",
    "\n",
    "seed_text = 'Risk production means'.lower()\n",
    "text = []\n",
    "\n",
    "for _ in range(n_words):\n",
    "    encoded = tokenizer.texts_to_sequences([seed_text])[0]\n",
    "    encoded = pad_sequences([encoded], maxlen =seq_length, truncating='pre')\n",
    "\n",
    "    pred = model.predict(encoded)\n",
    "    y_predict = pred.argmax(axis=1)\n",
    "\n",
    "    #y_predict = model.predict_classes(encoded)\n",
    "\n",
    "    predicted_word = ''\n",
    "    for word, index in tokenizer.word_index.items():\n",
    "        if index == y_predict:\n",
    "            predicted_word = word\n",
    "            break\n",
    "    seed_text = seed_text + ' ' + predicted_word\n",
    "    text.append(predicted_word)\n",
    "    \n",
    "seed_text"
   ]
  },
  {
   "cell_type": "code",
   "execution_count": null,
   "id": "41cf8f4e",
   "metadata": {},
   "outputs": [],
   "source": []
  }
 ],
 "metadata": {
  "kernelspec": {
   "display_name": "Python 3 (ipykernel)",
   "language": "python",
   "name": "python3"
  },
  "language_info": {
   "codemirror_mode": {
    "name": "ipython",
    "version": 3
   },
   "file_extension": ".py",
   "mimetype": "text/x-python",
   "name": "python",
   "nbconvert_exporter": "python",
   "pygments_lexer": "ipython3",
   "version": "3.9.16"
  }
 },
 "nbformat": 4,
 "nbformat_minor": 5
}
